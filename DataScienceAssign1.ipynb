{
 "cells": [
  {
   "cell_type": "code",
   "execution_count": 1,
   "id": "bf953c97",
   "metadata": {},
   "outputs": [
    {
     "name": "stdout",
     "output_type": "stream",
     "text": [
      "Twinkle, twinkle, little star,\n",
      "\t How I wonder what you are!\n",
      "\t\t Up above the world so high,\n",
      "\t\t Like a diamond in the sky.\n",
      "Twinkle, twinkle, little star,\n",
      "\t How I wonder what you are\n"
     ]
    }
   ],
   "source": [
    "#Question : 01\n",
    "#Write a Python program to print the following string in a specific format (see the output).\n",
    "\n",
    "#Twinkle, twinkle, little star,\n",
    "#         How I wonder what you are!\n",
    "#                Up above the world so high,\n",
    "#                Like a diamond in the sky.\n",
    "#Twinkle, twinkle, little star,\n",
    "#         How I wonder what you are \n",
    "\n",
    "print(\"Twinkle, twinkle, little star,\\n\\t How I wonder what you are!\\n\\t\\t Up above the world so high,\");\n",
    "print(\"\\t\\t Like a diamond in the sky.\\nTwinkle, twinkle, little star,\\n\\t How I wonder what you are\");"
   ]
  },
  {
   "cell_type": "code",
   "execution_count": 2,
   "id": "5786c8c1",
   "metadata": {},
   "outputs": [
    {
     "name": "stdout",
     "output_type": "stream",
     "text": [
      "Python Version:  3.8.8 (default, Apr 13 2021, 15:08:03) [MSC v.1916 64 bit (AMD64)]\n"
     ]
    }
   ],
   "source": [
    "#Question : 02\n",
    "#Write a Python program to get the Python version you are using\n",
    "\n",
    "import sys;\n",
    "print(\"Python Version: \",sys.version);"
   ]
  },
  {
   "cell_type": "code",
   "execution_count": 3,
   "id": "33147d65",
   "metadata": {},
   "outputs": [
    {
     "name": "stdout",
     "output_type": "stream",
     "text": [
      "2022-01-01 10:17:01.069229\n"
     ]
    }
   ],
   "source": [
    "#Question : 03\n",
    "#Write a Python program to display the current date and time.\n",
    "\n",
    "from datetime import datetime;\n",
    "print(datetime.now());"
   ]
  },
  {
   "cell_type": "code",
   "execution_count": 4,
   "id": "40a0d76e",
   "metadata": {},
   "outputs": [
    {
     "name": "stdout",
     "output_type": "stream",
     "text": [
      "Enter any number as a value of Radius: 5\n",
      "The Area of Circle is:  78.5\n"
     ]
    }
   ],
   "source": [
    "#Question : 04\n",
    "#Write a Python program which accepts the radius of a circle from the user and compute the area.\n",
    "\n",
    "Radius = int(input(\"Enter any number as a value of Radius: \"));\n",
    "\n",
    "print(\"The Area of Circle is: \",3.14*Radius**2);"
   ]
  },
  {
   "cell_type": "code",
   "execution_count": 5,
   "id": "afab10dd",
   "metadata": {},
   "outputs": [
    {
     "name": "stdout",
     "output_type": "stream",
     "text": [
      "Enter your first name: Zainab\n",
      "Enter your last name: Bibi\n",
      "Bibi Zainab\n"
     ]
    }
   ],
   "source": [
    "#Question : 05\n",
    "#Write a Python program which accepts the user's first and last name and print them in reverse order with a space between them.\n",
    "\n",
    "fname = input(\"Enter your first name: \");\n",
    "lname = input(\"Enter your last name: \");\n",
    "\n",
    "print(lname+\" \"+fname);"
   ]
  },
  {
   "cell_type": "code",
   "execution_count": 6,
   "id": "b0dda674",
   "metadata": {},
   "outputs": [
    {
     "name": "stdout",
     "output_type": "stream",
     "text": [
      "Enter 1st number: 15\n",
      "Enter 2nd number: 5\n",
      "20\n"
     ]
    }
   ],
   "source": [
    "#Question : 06\n",
    "#Write a python program which takes two inputs from user and print them addition\n",
    "\n",
    "num1 = int(input(\"Enter 1st number: \"));\n",
    "num2 = int(input(\"Enter 2nd number: \"));\n",
    "\n",
    "print(num1+num2);"
   ]
  },
  {
   "cell_type": "code",
   "execution_count": null,
   "id": "28d602ca",
   "metadata": {},
   "outputs": [],
   "source": []
  }
 ],
 "metadata": {
  "kernelspec": {
   "display_name": "Python 3",
   "language": "python",
   "name": "python3"
  },
  "language_info": {
   "codemirror_mode": {
    "name": "ipython",
    "version": 3
   },
   "file_extension": ".py",
   "mimetype": "text/x-python",
   "name": "python",
   "nbconvert_exporter": "python",
   "pygments_lexer": "ipython3",
   "version": "3.8.8"
  }
 },
 "nbformat": 4,
 "nbformat_minor": 5
}
